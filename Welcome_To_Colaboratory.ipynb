{
  "nbformat": 4,
  "nbformat_minor": 0,
  "metadata": {
    "colab": {
      "name": "Welcome To Colaboratory",
      "provenance": [],
      "collapsed_sections": [],
      "include_colab_link": true
    },
    "kernelspec": {
      "display_name": "Python 3",
      "name": "python3"
    }
  },
  "cells": [
    {
      "cell_type": "markdown",
      "metadata": {
        "id": "view-in-github",
        "colab_type": "text"
      },
      "source": [
        "<a href=\"https://colab.research.google.com/github/dhan1212/let-s-upgrade/blob/master/Welcome_To_Colaboratory.ipynb\" target=\"_parent\"><img src=\"https://colab.research.google.com/assets/colab-badge.svg\" alt=\"Open In Colab\"/></a>"
      ]
    },
    {
      "cell_type": "markdown",
      "metadata": {
        "id": "JdGxm3MFKX4w",
        "colab_type": "text"
      },
      "source": [
        "Assignment 8 . Problem no -2"
      ]
    },
    {
      "cell_type": "code",
      "metadata": {
        "id": "QKoABRrfMgDo",
        "colab_type": "code",
        "colab": {
          "base_uri": "https://localhost:8080/",
          "height": 34
        },
        "outputId": "9eddb80f-322a-46c5-f620-e128b1e62ba5"
      },
      "source": [
        " \n",
        "%%writefile test.txt\n",
        " \n",
        "Hi this is AJAY\n",
        "i love letsupgrade"
      ],
      "execution_count": 14,
      "outputs": [
        {
          "output_type": "stream",
          "text": [
            "Writing test.txt\n"
          ],
          "name": "stdout"
        }
      ]
    },
    {
      "cell_type": "code",
      "metadata": {
        "id": "4_6CrlbnMlNo",
        "colab_type": "code",
        "colab": {
          "base_uri": "https://localhost:8080/",
          "height": 86
        },
        "outputId": "9796c5d2-e427-4d4c-9051-48a77f225ad6"
      },
      "source": [
        " # opening file in read mode and tring to write \n",
        " \n",
        "try:\n",
        "    \n",
        "    file = open(\"test.txt\",\"r\")\n",
        "    \n",
        "    file.write(\"\\nI am from chennai.\")\n",
        "    \n",
        "    print(\"\\nWrite operation has done successfully in read only mode.\")\n",
        "    \n",
        "except Exception as e:\n",
        "    \n",
        "    print(\"\\nError has been occured\")\n",
        "    \n",
        "    print(\"\\nError message is :\",e)"
      ],
      "execution_count": 15,
      "outputs": [
        {
          "output_type": "stream",
          "text": [
            "\n",
            "Error has been occured\n",
            "\n",
            "Error message is : not writable\n"
          ],
          "name": "stdout"
        }
      ]
    }
  ]
}