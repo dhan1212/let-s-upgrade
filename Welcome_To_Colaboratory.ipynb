{
  "nbformat": 4,
  "nbformat_minor": 0,
  "metadata": {
    "colab": {
      "name": "Welcome To Colaboratory",
      "provenance": [],
      "collapsed_sections": [],
      "include_colab_link": true
    },
    "kernelspec": {
      "display_name": "Python 3",
      "name": "python3"
    }
  },
  "cells": [
    {
      "cell_type": "markdown",
      "metadata": {
        "id": "view-in-github",
        "colab_type": "text"
      },
      "source": [
        "<a href=\"https://colab.research.google.com/github/dhan1212/let-s-upgrade/blob/master/Welcome_To_Colaboratory.ipynb\" target=\"_parent\"><img src=\"https://colab.research.google.com/assets/colab-badge.svg\" alt=\"Open In Colab\"/></a>"
      ]
    },
    {
      "cell_type": "markdown",
      "metadata": {
        "id": "JdGxm3MFKX4w",
        "colab_type": "text"
      },
      "source": [
        "Assignment 9 . Problem no -2"
      ]
    },
    {
      "cell_type": "code",
      "metadata": {
        "id": "7WguR6kFXDO6",
        "colab_type": "code",
        "colab": {}
      },
      "source": [
        " lst = list(range(1,1000+1))"
      ],
      "execution_count": 34,
      "outputs": []
    },
    {
      "cell_type": "code",
      "metadata": {
        "id": "TYGRXBk1Wh8b",
        "colab_type": "code",
        "colab": {}
      },
      "source": [
        " # Generator to generate armstrong number\n",
        " \n",
        "def armstrong(lst):    \n",
        "    for num in lst:\n",
        "        s = 0\n",
        "        temp = num\n",
        "        while temp > 0:\n",
        "            d = temp % 10\n",
        "            s += d ** 3\n",
        "            temp //= 10\n",
        "        if num == s:\n",
        "            yield num"
      ],
      "execution_count": 32,
      "outputs": []
    },
    {
      "cell_type": "code",
      "metadata": {
        "id": "Ia6G2anHW5k_",
        "colab_type": "code",
        "colab": {
          "base_uri": "https://localhost:8080/",
          "height": 34
        },
        "outputId": "80d82310-e81c-4f85-c949-65d183b8f859"
      },
      "source": [
        " list(armstrong(lst))"
      ],
      "execution_count": 35,
      "outputs": [
        {
          "output_type": "execute_result",
          "data": {
            "text/plain": [
              "[1, 153, 370, 371, 407]"
            ]
          },
          "metadata": {
            "tags": []
          },
          "execution_count": 35
        }
      ]
    }
  ]
}