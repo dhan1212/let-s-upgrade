{
  "nbformat": 4,
  "nbformat_minor": 0,
  "metadata": {
    "colab": {
      "name": "Welcome To Colaboratory",
      "provenance": [],
      "collapsed_sections": [],
      "include_colab_link": true
    },
    "kernelspec": {
      "display_name": "Python 3",
      "name": "python3"
    }
  },
  "cells": [
    {
      "cell_type": "markdown",
      "metadata": {
        "id": "view-in-github",
        "colab_type": "text"
      },
      "source": [
        "<a href=\"https://colab.research.google.com/github/dhan1212/let-s-upgrade/blob/master/Welcome_To_Colaboratory.ipynb\" target=\"_parent\"><img src=\"https://colab.research.google.com/assets/colab-badge.svg\" alt=\"Open In Colab\"/></a>"
      ]
    },
    {
      "cell_type": "markdown",
      "metadata": {
        "id": "YfifspkJFLSc",
        "colab_type": "text"
      },
      "source": [
        "Assignment 5 . Problem no 3"
      ]
    },
    {
      "cell_type": "code",
      "metadata": {
        "id": "XTGpHf6QGje-",
        "colab_type": "code",
        "colab": {
          "base_uri": "https://localhost:8080/",
          "height": 175
        },
        "outputId": "874d228a-6b35-4292-dd0b-4593b5351065"
      },
      "source": [
        "  #Make a Lambda function for capitalizing the whole sentence passed using arguments.\n",
        "# And map all the sentences in the List, with the lambda functions\n",
        " \n",
        "lst = [\"hey this i ajay\",\"i am from chennai\"]\n",
        " \n",
        "print(\"\\nOriginal list : \\n\")\n",
        " \n",
        "print(lst)\n",
        " \n",
        "result = list(map(lambda words: \" \".join([word.capitalize() for word in words.split( )]) ,lst))\n",
        " \n",
        "print(\"\\nCapitalized list is : \\n\")\n",
        " \n",
        "print(result)"
      ],
      "execution_count": 4,
      "outputs": [
        {
          "output_type": "stream",
          "text": [
            "\n",
            "Original list : \n",
            "\n",
            "['hey this i ajay', 'i am from chennai']\n",
            "\n",
            "Capitalized list is : \n",
            "\n",
            "['Hey This I Ajay', 'I Am From Chennai']\n"
          ],
          "name": "stdout"
        }
      ]
    }
  ]
}