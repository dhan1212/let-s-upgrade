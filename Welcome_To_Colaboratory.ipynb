{
  "nbformat": 4,
  "nbformat_minor": 0,
  "metadata": {
    "colab": {
      "name": "Welcome To Colaboratory",
      "provenance": [],
      "collapsed_sections": [],
      "include_colab_link": true
    },
    "kernelspec": {
      "display_name": "Python 3",
      "name": "python3"
    }
  },
  "cells": [
    {
      "cell_type": "markdown",
      "metadata": {
        "id": "view-in-github",
        "colab_type": "text"
      },
      "source": [
        "<a href=\"https://colab.research.google.com/github/dhan1212/let-s-upgrade/blob/master/Welcome_To_Colaboratory.ipynb\" target=\"_parent\"><img src=\"https://colab.research.google.com/assets/colab-badge.svg\" alt=\"Open In Colab\"/></a>"
      ]
    },
    {
      "cell_type": "markdown",
      "metadata": {
        "id": "A_8nHmptBIa0",
        "colab_type": "text"
      },
      "source": [
        " Assignment day 5"
      ]
    },
    {
      "cell_type": "code",
      "metadata": {
        "id": "epUaxkATCBon",
        "colab_type": "code",
        "colab": {
          "base_uri": "https://localhost:8080/",
          "height": 210
        },
        "outputId": "6e837d95-d53d-400d-9eb2-8d9046806206"
      },
      "source": [
        " \n",
        " \n",
        "lst = [1, 1, 5]\n",
        " \n",
        "lst1 = []\n",
        " \n",
        "l = int(input(\"\\nEnter the length of the list : \"))\n",
        " \n",
        "j = 0;\n",
        " \n",
        "# creating a list from user value\n",
        " \n",
        "for i in range (0,l):\n",
        " \n",
        "    lst1.append(int(input(\"\\nEnter the number for the list : \")))\n",
        " \n",
        "print()\n",
        " \n",
        "print(\"List is : \", lst1)\n",
        " \n",
        "for i in range(0,l):\n",
        "    \n",
        "    if( lst1[i] == lst[j] ):\n",
        "        \n",
        "        j += 1\n",
        "        \n",
        "        i += 1\n",
        "        \n",
        "    else:\n",
        "        \n",
        "        i +=1\n",
        "    \n",
        "if( j == 3 ):\n",
        " \n",
        "    print (\"\\nIt's a match\")\n",
        " \n",
        "else:\n",
        " \n",
        "    print (\"\\nIt's Gone\")"
      ],
      "execution_count": 2,
      "outputs": [
        {
          "output_type": "stream",
          "text": [
            "\n",
            "Enter the length of the list : 2\n",
            "\n",
            "Enter the number for the list : 5\n",
            "\n",
            "Enter the number for the list : 7\n",
            "\n",
            "List is :  [5, 7]\n",
            "\n",
            "It's Gone\n"
          ],
          "name": "stdout"
        }
      ]
    }
  ]
}