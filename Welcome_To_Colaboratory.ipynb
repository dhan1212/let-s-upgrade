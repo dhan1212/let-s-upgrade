{
  "nbformat": 4,
  "nbformat_minor": 0,
  "metadata": {
    "colab": {
      "name": "Welcome To Colaboratory",
      "provenance": [],
      "collapsed_sections": [],
      "include_colab_link": true
    },
    "kernelspec": {
      "display_name": "Python 3",
      "name": "python3"
    }
  },
  "cells": [
    {
      "cell_type": "markdown",
      "metadata": {
        "id": "view-in-github",
        "colab_type": "text"
      },
      "source": [
        "<a href=\"https://colab.research.google.com/github/dhan1212/let-s-upgrade/blob/master/Welcome_To_Colaboratory.ipynb\" target=\"_parent\"><img src=\"https://colab.research.google.com/assets/colab-badge.svg\" alt=\"Open In Colab\"/></a>"
      ]
    },
    {
      "cell_type": "markdown",
      "metadata": {
        "id": "dScebZM_ImAR",
        "colab_type": "text"
      },
      "source": [
        "Assignment 6. Problem 2"
      ]
    },
    {
      "cell_type": "code",
      "metadata": {
        "id": "dIfaMWXDIr9h",
        "colab_type": "code",
        "colab": {}
      },
      "source": [
        " import math\n",
        " \n",
        "pi = math.pi\n",
        " \n",
        "class cone:\n",
        "    \n",
        "    def __init__(self,r,h): \n",
        " \n",
        "        self.r=r\n",
        "        \n",
        "        self.h=h\n",
        "        \n",
        "    def volume(self):\n",
        "        \n",
        "        result = (1 / 3) * pi * self.r * self.r * self.h\n",
        "        \n",
        "        print(\"\\nVolume Of Cone is :\",result)\n",
        "        \n",
        "    def surfacearea(self):\n",
        "        \n",
        "        result = pi * self.r * self.h + pi * self.r * self.r\n",
        "         \n",
        "        print(\"\\nSurface Area Of Cone is :\",result)"
      ],
      "execution_count": 6,
      "outputs": []
    },
    {
      "cell_type": "code",
      "metadata": {
        "id": "Q8Xj0ySvJJio",
        "colab_type": "code",
        "colab": {
          "base_uri": "https://localhost:8080/",
          "height": 175
        },
        "outputId": "be0fd3a6-4c45-4cab-89e2-f037df3d9bfe"
      },
      "source": [
        " \n",
        "ra = float(input(\"\\nEnter the radius of cone : \"))\n",
        " \n",
        "he = float(input(\"\\nEnter the height of cone : \"))\n",
        " \n",
        "c = cone( ra, he)\n",
        " \n",
        "c.volume()\n",
        " \n",
        "c.surfacearea()"
      ],
      "execution_count": 7,
      "outputs": [
        {
          "output_type": "stream",
          "text": [
            "\n",
            "Enter the radius of cone : 2.5\n",
            "\n",
            "Enter the height of cone : 4\n",
            "\n",
            "Volume Of Cone is : 26.17993877991494\n",
            "\n",
            "Surface Area Of Cone is : 51.050880620834135\n"
          ],
          "name": "stdout"
        }
      ]
    }
  ]
}