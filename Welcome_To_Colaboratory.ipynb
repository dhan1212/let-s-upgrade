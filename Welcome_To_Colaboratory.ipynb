{
  "nbformat": 4,
  "nbformat_minor": 0,
  "metadata": {
    "colab": {
      "name": "Welcome To Colaboratory",
      "provenance": [],
      "collapsed_sections": [],
      "include_colab_link": true
    },
    "kernelspec": {
      "display_name": "Python 3",
      "name": "python3"
    }
  },
  "cells": [
    {
      "cell_type": "markdown",
      "metadata": {
        "id": "view-in-github",
        "colab_type": "text"
      },
      "source": [
        "<a href=\"https://colab.research.google.com/github/dhan1212/let-s-upgrade/blob/master/Welcome_To_Colaboratory.ipynb\" target=\"_parent\"><img src=\"https://colab.research.google.com/assets/colab-badge.svg\" alt=\"Open In Colab\"/></a>"
      ]
    },
    {
      "cell_type": "markdown",
      "metadata": {
        "id": "JdGxm3MFKX4w",
        "colab_type": "text"
      },
      "source": [
        "Assignment 9 . Problem no -1"
      ]
    },
    {
      "cell_type": "code",
      "metadata": {
        "id": "DRXg-G9QT5DU",
        "colab_type": "code",
        "colab": {}
      },
      "source": [
        " \n",
        " \n",
        "# downloading pylint"
      ],
      "execution_count": 24,
      "outputs": []
    },
    {
      "cell_type": "code",
      "metadata": {
        "id": "__aSaXQRN8MD",
        "colab_type": "code",
        "colab": {
          "base_uri": "https://localhost:8080/",
          "height": 34
        },
        "outputId": "a3ce61bb-b0f0-4d66-9a2b-74b58fbc4a99"
      },
      "source": [
        " \n",
        " \n",
        "%%writefile prime.py\n",
        " \n",
        "'''\n",
        "Creating a python file for finding whethere the given number is prime number or not.\n",
        "'''\n",
        " \n",
        "def is_prime(given_no):\n",
        "    '''\n",
        "    function to check for prime number.\n",
        "    '''\n",
        "    if given_no >= 1:\n",
        "        for i in range(2, given_no):\n",
        "            if (given_no % i) == 0:\n",
        "                final_result=\"Not Prime\"\n",
        "            else:\n",
        "                final_result=\"Prime\"\n",
        "    else:\n",
        "        final_result=\"Not Prime\"\n",
        "    return final_result"
      ],
      "execution_count": 25,
      "outputs": [
        {
          "output_type": "stream",
          "text": [
            "Overwriting prime.py\n"
          ],
          "name": "stdout"
        }
      ]
    },
    {
      "cell_type": "code",
      "metadata": {
        "id": "XNX9BgfFUpeX",
        "colab_type": "code",
        "colab": {
          "base_uri": "https://localhost:8080/",
          "height": 34
        },
        "outputId": "c0858a06-b737-40b8-d236-98ca1265aca1"
      },
      "source": [
        " %%writefile primeUnitTest.py\n",
        " \n",
        "import unittest\n",
        "import prime\n",
        " \n",
        "class testPrime(unittest.TestCase):\n",
        "    def testSinglePrime(self):\n",
        "        a = 3\n",
        "        result = prime.is_prime(a)\n",
        "        self.assertEquals(result, \"Prime\")\n",
        "        \n",
        "    def testingDoublePrime(self):\n",
        "        b = 11 \n",
        "        result = prime.is_prime(b)\n",
        "        self.assertEquals(result, \"Prime\")\n",
        " \n",
        "if __name__ == \"__main__\":\n",
        "    unittest.main()"
      ],
      "execution_count": 29,
      "outputs": [
        {
          "output_type": "stream",
          "text": [
            "Writing primeUnitTest.py\n"
          ],
          "name": "stdout"
        }
      ]
    },
    {
      "cell_type": "code",
      "metadata": {
        "id": "0bvh5zWSVkR8",
        "colab_type": "code",
        "colab": {
          "base_uri": "https://localhost:8080/",
          "height": 123
        },
        "outputId": "90f373c9-5bcb-428e-dfc1-82eafc25b262"
      },
      "source": [
        " ! python \"primeUnitTest.py\""
      ],
      "execution_count": 30,
      "outputs": [
        {
          "output_type": "stream",
          "text": [
            "..\n",
            "----------------------------------------------------------------------\n",
            "Ran 2 tests in 0.000s\n",
            "\n",
            "OK\n"
          ],
          "name": "stdout"
        }
      ]
    }
  ]
}