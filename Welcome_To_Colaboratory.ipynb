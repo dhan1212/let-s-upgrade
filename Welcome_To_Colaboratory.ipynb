{
  "nbformat": 4,
  "nbformat_minor": 0,
  "metadata": {
    "colab": {
      "name": "Welcome To Colaboratory",
      "provenance": [],
      "collapsed_sections": [],
      "include_colab_link": true
    },
    "kernelspec": {
      "display_name": "Python 3",
      "name": "python3"
    }
  },
  "cells": [
    {
      "cell_type": "markdown",
      "metadata": {
        "id": "view-in-github",
        "colab_type": "text"
      },
      "source": [
        "<a href=\"https://colab.research.google.com/github/dhan1212/let-s-upgrade/blob/master/Welcome_To_Colaboratory.ipynb\" target=\"_parent\"><img src=\"https://colab.research.google.com/assets/colab-badge.svg\" alt=\"Open In Colab\"/></a>"
      ]
    },
    {
      "cell_type": "markdown",
      "metadata": {
        "id": "3u7qfVrm8zkD",
        "colab_type": "text"
      },
      "source": [
        " Assignment day 4"
      ]
    },
    {
      "cell_type": "code",
      "metadata": {
        "id": "8whSyu3Q-B2c",
        "colab_type": "code",
        "colab": {
          "base_uri": "https://localhost:8080/",
          "height": 54
        },
        "outputId": "601a8d44-7d9f-4aca-ba90-b1e24678eff4"
      },
      "source": [
        " \n",
        " \n",
        "# finding the first armstrong number from range 1042000 to 702648265 using while loop\n",
        " \n",
        "n = 1042000\n",
        " \n",
        "while n <= 702648265:\n",
        " \n",
        "    order = len(str(n))\n",
        "    \n",
        "    s=0\n",
        " \n",
        "    num = n\n",
        "    \n",
        "    while num > 0:\n",
        "        \n",
        "        digit = num % 10\n",
        "        \n",
        "        s += digit ** order\n",
        "        \n",
        "        num //= 10\n",
        " \n",
        "    if n == s:\n",
        "        print(\"The first armstrong number is :\",n)\n",
        "        break\n",
        "    \n",
        "    n += 1"
      ],
      "execution_count": 5,
      "outputs": [
        {
          "output_type": "stream",
          "text": [
            "The first armstrong number is : 1741725\n"
          ],
          "name": "stdout"
        }
      ]
    }
  ]
}