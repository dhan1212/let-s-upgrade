{
  "nbformat": 4,
  "nbformat_minor": 0,
  "metadata": {
    "colab": {
      "name": "Welcome To Colaboratory",
      "provenance": [],
      "collapsed_sections": [],
      "include_colab_link": true
    },
    "kernelspec": {
      "display_name": "Python 3",
      "name": "python3"
    }
  },
  "cells": [
    {
      "cell_type": "markdown",
      "metadata": {
        "id": "view-in-github",
        "colab_type": "text"
      },
      "source": [
        "<a href=\"https://colab.research.google.com/github/dhan1212/let-s-upgrade/blob/master/Welcome_To_Colaboratory.ipynb\" target=\"_parent\"><img src=\"https://colab.research.google.com/assets/colab-badge.svg\" alt=\"Open In Colab\"/></a>"
      ]
    },
    {
      "cell_type": "markdown",
      "metadata": {
        "id": "YfifspkJFLSc",
        "colab_type": "text"
      },
      "source": [
        "Assignment 6 . Problem no 1"
      ]
    },
    {
      "cell_type": "code",
      "metadata": {
        "id": "ySWrnntoHe-j",
        "colab_type": "code",
        "colab": {
          "base_uri": "https://localhost:8080/",
          "height": 314
        },
        "outputId": "b167bdbb-46f1-43e7-ed98-1cbd4cc47010"
      },
      "source": [
        " # class for Banck_Account \n",
        " \n",
        "class BankAccount: \n",
        " \n",
        "    def __init__(self): \n",
        " \n",
        "        self.ownerName=\"AJAY M\"\n",
        "        \n",
        "        self.Balance=0\n",
        "        \n",
        "    def deposit(self): \n",
        "        \n",
        "        Amount=float(input(\"\\nEnter amount to be Deposited : \")) \n",
        "        \n",
        "        self.Balance += Amount \n",
        "        \n",
        "        print(\"\\nAmount Deposited is :\",Amount) \n",
        "  \n",
        "    def withdraw(self): \n",
        "        \n",
        "        Amount = float(input(\"\\nEnter amount to be Withdrawn : \")) \n",
        "        \n",
        "        if self.Balance >= Amount: \n",
        "        \n",
        "            self.Balance -= Amount \n",
        "            \n",
        "            print(\"\\nYou have Withdrew :\", Amount) \n",
        "        \n",
        "        else: \n",
        "        \n",
        "            print(\"\\nInsufficient balance in the account...\") \n",
        " \n",
        "print(\"\\n---WELCOME TO BACK ACCOUNT PROGRAM---\")\n",
        "    \n",
        "BA = BankAccount()\n",
        " \n",
        "print(\"\\nAccount Holder Name is :\",BA.ownerName)\n",
        "    \n",
        "print(\"\\nInitial Account Balance is :\",BA.Balance)\n",
        "   \n",
        "BA.deposit();\n",
        "    \n",
        "BA.withdraw();\n",
        "    \n",
        "print(\"\\nNet Avaliable balance is : \",BA.Balance)"
      ],
      "execution_count": 5,
      "outputs": [
        {
          "output_type": "stream",
          "text": [
            "\n",
            "---WELCOME TO BACK ACCOUNT PROGRAM---\n",
            "\n",
            "Account Holder Name is : AJAY M\n",
            "\n",
            "Initial Account Balance is : 0\n",
            "\n",
            "Enter amount to be Deposited : 500\n",
            "\n",
            "Amount Deposited is : 500.0\n",
            "\n",
            "Enter amount to be Withdrawn : 300\n",
            "\n",
            "You have Withdrew : 300.0\n",
            "\n",
            "Net Avaliable balance is :  200.0\n"
          ],
          "name": "stdout"
        }
      ]
    }
  ]
}