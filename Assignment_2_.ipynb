{
  "nbformat": 4,
  "nbformat_minor": 0,
  "metadata": {
    "colab": {
      "name": "Assignment 2*",
      "provenance": [],
      "collapsed_sections": [],
      "include_colab_link": true
    },
    "kernelspec": {
      "display_name": "Python 3",
      "name": "python3"
    }
  },
  "cells": [
    {
      "cell_type": "markdown",
      "metadata": {
        "id": "view-in-github",
        "colab_type": "text"
      },
      "source": [
        "<a href=\"https://colab.research.google.com/github/dhan1212/let-s-upgrade/blob/master/Assignment_2_.ipynb\" target=\"_parent\"><img src=\"https://colab.research.google.com/assets/colab-badge.svg\" alt=\"Open In Colab\"/></a>"
      ]
    },
    {
      "cell_type": "markdown",
      "metadata": {
        "id": "2QX70CcT49oj",
        "colab_type": "text"
      },
      "source": [
        " Assignment 1. (Day2)"
      ]
    },
    {
      "cell_type": "markdown",
      "metadata": {
        "id": "8pxvliIv5Pdx",
        "colab_type": "text"
      },
      "source": [
        " Q1.List and it's Default Functions"
      ]
    },
    {
      "cell_type": "code",
      "metadata": {
        "id": "A7-vREVK5VlE",
        "colab_type": "code",
        "colab": {}
      },
      "source": [
        " lst=[\"Ankit\",\"Rishabh\",30,60,45.89]"
      ],
      "execution_count": null,
      "outputs": []
    },
    {
      "cell_type": "code",
      "metadata": {
        "id": "sVJcJxJ35o54",
        "colab_type": "code",
        "colab": {
          "base_uri": "https://localhost:8080/",
          "height": 54
        },
        "outputId": "8339eeb8-4c9a-4eea-ca89-1d25a60577d5"
      },
      "source": [
        " print (lst)"
      ],
      "execution_count": null,
      "outputs": [
        {
          "output_type": "stream",
          "text": [
            "['Ankit', 'Rishabh', 30, 60, 45.89]\n"
          ],
          "name": "stdout"
        }
      ]
    }
  ]
}